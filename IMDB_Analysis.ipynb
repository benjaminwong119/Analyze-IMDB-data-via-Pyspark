{
 "cells": [
  {
   "cell_type": "markdown",
   "id": "8f83fe34",
   "metadata": {},
   "source": [
    "# Part 1 - Installation and Initial Setup"
   ]
  },
  {
   "cell_type": "code",
   "execution_count": 1,
   "id": "eb925319",
   "metadata": {
    "scrolled": true
   },
   "outputs": [
    {
     "data": {
      "text/html": [
       "Current session configs: <tt>{'conf': {'spark.pyspark.python': 'python3', 'spark.pyspark.virtualenv.enabled': 'true', 'spark.pyspark.virtualenv.type': 'native', 'spark.pyspark.virtualenv.bin.path': '/usr/bin/virtualenv'}, 'kind': 'pyspark'}</tt><br>"
      ],
      "text/plain": [
       "<IPython.core.display.HTML object>"
      ]
     },
     "metadata": {},
     "output_type": "display_data"
    },
    {
     "data": {
      "text/html": [
       "No active sessions."
      ],
      "text/plain": [
       "<IPython.core.display.HTML object>"
      ]
     },
     "metadata": {},
     "output_type": "display_data"
    }
   ],
   "source": [
    "%%info"
   ]
  },
  {
   "cell_type": "markdown",
   "id": "99fec045",
   "metadata": {},
   "source": [
    "Let's install the necessary packages here"
   ]
  },
  {
   "cell_type": "code",
   "execution_count": 1,
   "id": "11e564bf",
   "metadata": {
    "scrolled": true
   },
   "outputs": [
    {
     "data": {
      "application/vnd.jupyter.widget-view+json": {
       "model_id": "9c359f5f4faa4bb3864693ae5a247bda",
       "version_major": 2,
       "version_minor": 0
      },
      "text/plain": [
       "VBox()"
      ]
     },
     "metadata": {},
     "output_type": "display_data"
    },
    {
     "name": "stdout",
     "output_type": "stream",
     "text": [
      "Starting Spark application\n"
     ]
    },
    {
     "data": {
      "text/html": [
       "<table>\n",
       "<tr><th>ID</th><th>YARN Application ID</th><th>Kind</th><th>State</th><th>Spark UI</th><th>Driver log</th><th>Current session?</th></tr><tr><td>0</td><td>application_1669741674108_0001</td><td>pyspark</td><td>idle</td><td><a target=\"_blank\" href=\"http://ip-172-31-41-86.us-east-2.compute.internal:20888/proxy/application_1669741674108_0001/\">Link</a></td><td><a target=\"_blank\" href=\"http://ip-172-31-42-173.us-east-2.compute.internal:8042/node/containerlogs/container_1669741674108_0001_01_000001/livy\">Link</a></td><td>✔</td></tr></table>"
      ],
      "text/plain": [
       "<IPython.core.display.HTML object>"
      ]
     },
     "metadata": {},
     "output_type": "display_data"
    },
    {
     "data": {
      "application/vnd.jupyter.widget-view+json": {
       "model_id": "",
       "version_major": 2,
       "version_minor": 0
      },
      "text/plain": [
       "FloatProgress(value=0.0, bar_style='info', description='Progress:', layout=Layout(height='25px', width='50%'),…"
      ]
     },
     "metadata": {},
     "output_type": "display_data"
    },
    {
     "name": "stdout",
     "output_type": "stream",
     "text": [
      "SparkSession available as 'spark'.\n"
     ]
    },
    {
     "data": {
      "application/vnd.jupyter.widget-view+json": {
       "model_id": "",
       "version_major": 2,
       "version_minor": 0
      },
      "text/plain": [
       "FloatProgress(value=0.0, bar_style='info', description='Progress:', layout=Layout(height='25px', width='50%'),…"
      ]
     },
     "metadata": {},
     "output_type": "display_data"
    },
    {
     "name": "stdout",
     "output_type": "stream",
     "text": [
      "Package                    Version  \n",
      "-------------------------- ---------\n",
      "beautifulsoup4             4.9.1    \n",
      "boto                       2.49.0   \n",
      "click                      7.1.2    \n",
      "jmespath                   0.10.0   \n",
      "joblib                     0.16.0   \n",
      "lxml                       4.5.2    \n",
      "mysqlclient                1.4.2    \n",
      "nltk                       3.5      \n",
      "nose                       1.3.4    \n",
      "numpy                      1.16.5   \n",
      "pip                        9.0.1    \n",
      "py-dateutil                2.2      \n",
      "python37-sagemaker-pyspark 1.4.0    \n",
      "pytz                       2020.1   \n",
      "PyYAML                     5.3.1    \n",
      "regex                      2020.7.14\n",
      "setuptools                 28.8.0   \n",
      "six                        1.13.0   \n",
      "soupsieve                  1.9.5    \n",
      "tqdm                       4.48.2   \n",
      "wheel                      0.29.0   \n",
      "windmill                   1.6"
     ]
    }
   ],
   "source": [
    "sc.list_packages()"
   ]
  },
  {
   "cell_type": "code",
   "execution_count": 122,
   "id": "18c92954",
   "metadata": {
    "scrolled": false
   },
   "outputs": [
    {
     "data": {
      "application/vnd.jupyter.widget-view+json": {
       "model_id": "c20ac654012546d1b2a71696b9baee7f",
       "version_major": 2,
       "version_minor": 0
      },
      "text/plain": [
       "VBox()"
      ]
     },
     "metadata": {},
     "output_type": "display_data"
    },
    {
     "data": {
      "application/vnd.jupyter.widget-view+json": {
       "model_id": "",
       "version_major": 2,
       "version_minor": 0
      },
      "text/plain": [
       "FloatProgress(value=0.0, bar_style='info', description='Progress:', layout=Layout(height='25px', width='50%'),…"
      ]
     },
     "metadata": {},
     "output_type": "display_data"
    },
    {
     "name": "stderr",
     "output_type": "stream",
     "text": [
      "Package already installed for current Spark context!\n",
      "Traceback (most recent call last):\n",
      "  File \"/usr/lib/spark/python/lib/pyspark.zip/pyspark/context.py\", line 1110, in install_pypi_package\n",
      "    raise ValueError(\"Package already installed for current Spark context!\")\n",
      "ValueError: Package already installed for current Spark context!\n",
      "\n"
     ]
    }
   ],
   "source": [
    "sc.install_pypi_package(\"pandas==1.0.3\")"
   ]
  },
  {
   "cell_type": "code",
   "execution_count": 2,
   "id": "0ace7e68",
   "metadata": {
    "scrolled": false
   },
   "outputs": [
    {
     "data": {
      "application/vnd.jupyter.widget-view+json": {
       "model_id": "37eb413733c1412facfd82253d05ce8a",
       "version_major": 2,
       "version_minor": 0
      },
      "text/plain": [
       "VBox()"
      ]
     },
     "metadata": {},
     "output_type": "display_data"
    },
    {
     "data": {
      "application/vnd.jupyter.widget-view+json": {
       "model_id": "",
       "version_major": 2,
       "version_minor": 0
      },
      "text/plain": [
       "FloatProgress(value=0.0, bar_style='info', description='Progress:', layout=Layout(height='25px', width='50%'),…"
      ]
     },
     "metadata": {},
     "output_type": "display_data"
    },
    {
     "name": "stdout",
     "output_type": "stream",
     "text": [
      "Collecting matplotlib==3.2.1\n",
      "  Downloading https://files.pythonhosted.org/packages/b2/c2/71fcf957710f3ba1f09088b35776a799ba7dd95f7c2b195ec800933b276b/matplotlib-3.2.1-cp37-cp37m-manylinux1_x86_64.whl (12.4MB)\n",
      "Requirement already satisfied: python-dateutil>=2.1 in /mnt/tmp/1669827082144-0/lib/python3.7/site-packages (from matplotlib==3.2.1)\n",
      "Collecting pyparsing!=2.0.4,!=2.1.2,!=2.1.6,>=2.0.1 (from matplotlib==3.2.1)\n",
      "  Downloading https://files.pythonhosted.org/packages/6c/10/a7d0fa5baea8fe7b50f448ab742f26f52b80bfca85ac2be9d35cdd9a3246/pyparsing-3.0.9-py3-none-any.whl (98kB)\n",
      "Collecting cycler>=0.10 (from matplotlib==3.2.1)\n",
      "  Downloading https://files.pythonhosted.org/packages/5c/f9/695d6bedebd747e5eb0fe8fad57b72fdf25411273a39791cde838d5a8f51/cycler-0.11.0-py3-none-any.whl\n",
      "Requirement already satisfied: numpy>=1.11 in /usr/local/lib64/python3.7/site-packages (from matplotlib==3.2.1)\n",
      "Collecting kiwisolver>=1.0.1 (from matplotlib==3.2.1)\n",
      "  Downloading https://files.pythonhosted.org/packages/ab/8f/8dbe2d4efc4c0b08ec67d6efb7cc31fbfd688c80afad85f65980633b0d37/kiwisolver-1.4.4-cp37-cp37m-manylinux_2_5_x86_64.manylinux1_x86_64.whl (1.1MB)\n",
      "Requirement already satisfied: six>=1.5 in /usr/local/lib/python3.7/site-packages (from python-dateutil>=2.1->matplotlib==3.2.1)\n",
      "Collecting typing-extensions; python_version < \"3.8\" (from kiwisolver>=1.0.1->matplotlib==3.2.1)\n",
      "  Downloading https://files.pythonhosted.org/packages/0b/8e/f1a0a5a76cfef77e1eb6004cb49e5f8d72634da638420b9ea492ce8305e8/typing_extensions-4.4.0-py3-none-any.whl\n",
      "Installing collected packages: pyparsing, cycler, typing-extensions, kiwisolver, matplotlib\n",
      "Successfully installed cycler-0.11.0 kiwisolver-1.4.4 matplotlib-3.2.1 pyparsing-3.0.9 typing-extensions-4.4.0"
     ]
    }
   ],
   "source": [
    "sc.install_pypi_package(\"matplotlib==3.2.1\")"
   ]
  },
  {
   "cell_type": "code",
   "execution_count": 101,
   "id": "3593af13",
   "metadata": {},
   "outputs": [
    {
     "data": {
      "application/vnd.jupyter.widget-view+json": {
       "model_id": "687e0ed504a348ac8e48d9ff32fd7d14",
       "version_major": 2,
       "version_minor": 0
      },
      "text/plain": [
       "VBox()"
      ]
     },
     "metadata": {},
     "output_type": "display_data"
    },
    {
     "data": {
      "application/vnd.jupyter.widget-view+json": {
       "model_id": "",
       "version_major": 2,
       "version_minor": 0
      },
      "text/plain": [
       "FloatProgress(value=0.0, bar_style='info', description='Progress:', layout=Layout(height='25px', width='50%'),…"
      ]
     },
     "metadata": {},
     "output_type": "display_data"
    }
   ],
   "source": [
    "import pandas as pd\n",
    "import matplotlib.pyplot as plt "
   ]
  },
  {
   "cell_type": "markdown",
   "id": "af9d3710",
   "metadata": {},
   "source": [
    "# Loading Data"
   ]
  },
  {
   "cell_type": "code",
   "execution_count": 3,
   "id": "88b7e7cc",
   "metadata": {},
   "outputs": [
    {
     "data": {
      "application/vnd.jupyter.widget-view+json": {
       "model_id": "aa14e54eadcd4fcf9a8cc00d6a9f73b0",
       "version_major": 2,
       "version_minor": 0
      },
      "text/plain": [
       "VBox()"
      ]
     },
     "metadata": {},
     "output_type": "display_data"
    },
    {
     "data": {
      "application/vnd.jupyter.widget-view+json": {
       "model_id": "",
       "version_major": 2,
       "version_minor": 0
      },
      "text/plain": [
       "FloatProgress(value=0.0, bar_style='info', description='Progress:', layout=Layout(height='25px', width='50%'),…"
      ]
     },
     "metadata": {},
     "output_type": "display_data"
    }
   ],
   "source": [
    "actors = spark.read.csv('name.basics.tsv', sep=r'\\t', header=True)\n",
    "genres = spark.read.csv('title.basics.tsv', sep=r'\\t', header=True)\n",
    "movie_actors = spark.read.csv('title.principals.tsv', sep=r'\\t', header=True)\n",
    "movie_ratings = spark.read.csv('title.ratings.tsv', sep=r'\\t', header=True)"
   ]
  },
  {
   "cell_type": "markdown",
   "id": "66d88c68",
   "metadata": {},
   "source": [
    "## Actors"
   ]
  },
  {
   "cell_type": "code",
   "execution_count": 7,
   "id": "61fd832f",
   "metadata": {
    "scrolled": true
   },
   "outputs": [
    {
     "data": {
      "application/vnd.jupyter.widget-view+json": {
       "model_id": "d3ecd15eccfc4c1c831cd956788fd0b2",
       "version_major": 2,
       "version_minor": 0
      },
      "text/plain": [
       "VBox()"
      ]
     },
     "metadata": {},
     "output_type": "display_data"
    },
    {
     "data": {
      "application/vnd.jupyter.widget-view+json": {
       "model_id": "",
       "version_major": 2,
       "version_minor": 0
      },
      "text/plain": [
       "FloatProgress(value=0.0, bar_style='info', description='Progress:', layout=Layout(height='25px', width='50%'),…"
      ]
     },
     "metadata": {},
     "output_type": "display_data"
    },
    {
     "name": "stdout",
     "output_type": "stream",
     "text": [
      "root\n",
      " |-- nconst: string (nullable = true)\n",
      " |-- primaryName: string (nullable = true)\n",
      " |-- birthYear: string (nullable = true)\n",
      " |-- deathYear: string (nullable = true)\n",
      " |-- primaryProfession: string (nullable = true)\n",
      " |-- knownForTitles: string (nullable = true)"
     ]
    }
   ],
   "source": [
    "actors.printSchema()"
   ]
  },
  {
   "cell_type": "code",
   "execution_count": 4,
   "id": "11f737f4",
   "metadata": {},
   "outputs": [
    {
     "data": {
      "application/vnd.jupyter.widget-view+json": {
       "model_id": "52bd65f002af4ee28109c86b5d215d2d",
       "version_major": 2,
       "version_minor": 0
      },
      "text/plain": [
       "VBox()"
      ]
     },
     "metadata": {},
     "output_type": "display_data"
    },
    {
     "data": {
      "application/vnd.jupyter.widget-view+json": {
       "model_id": "",
       "version_major": 2,
       "version_minor": 0
      },
      "text/plain": [
       "FloatProgress(value=0.0, bar_style='info', description='Progress:', layout=Layout(height='25px', width='50%'),…"
      ]
     },
     "metadata": {},
     "output_type": "display_data"
    }
   ],
   "source": [
    "actors.createOrReplaceTempView('Actors')\n",
    "sqlactor1 = spark.sql(\n",
    "'''\n",
    "SELECT primaryName,birthYear,deathYear,knownForTitles\n",
    "FROM Actors\n",
    "LIMIT 5\n",
    "'''\n",
    ")\n"
   ]
  },
  {
   "cell_type": "code",
   "execution_count": 9,
   "id": "b9698650",
   "metadata": {
    "scrolled": true
   },
   "outputs": [
    {
     "data": {
      "application/vnd.jupyter.widget-view+json": {
       "model_id": "ead912f4a24f4c9692e8752fbebe8c80",
       "version_major": 2,
       "version_minor": 0
      },
      "text/plain": [
       "VBox()"
      ]
     },
     "metadata": {},
     "output_type": "display_data"
    },
    {
     "data": {
      "application/vnd.jupyter.widget-view+json": {
       "model_id": "",
       "version_major": 2,
       "version_minor": 0
      },
      "text/plain": [
       "FloatProgress(value=0.0, bar_style='info', description='Progress:', layout=Layout(height='25px', width='50%'),…"
      ]
     },
     "metadata": {},
     "output_type": "display_data"
    },
    {
     "name": "stdout",
     "output_type": "stream",
     "text": [
      "+---------------+---------+---------+--------------------+\n",
      "|    primaryName|birthYear|deathYear|      knownForTitles|\n",
      "+---------------+---------+---------+--------------------+\n",
      "|   Fred Astaire|     1899|     1987|tt0050419,tt00531...|\n",
      "|  Lauren Bacall|     1924|     2014|tt0071877,tt01170...|\n",
      "|Brigitte Bardot|     1934|       \\N|tt0054452,tt00491...|\n",
      "|   John Belushi|     1949|     1982|tt0077975,tt00725...|\n",
      "| Ingmar Bergman|     1918|     2007|tt0069467,tt00509...|\n",
      "+---------------+---------+---------+--------------------+"
     ]
    }
   ],
   "source": [
    "sqlactor1.show()"
   ]
  },
  {
   "cell_type": "markdown",
   "id": "a2dd0c32",
   "metadata": {},
   "source": [
    "## Genres"
   ]
  },
  {
   "cell_type": "code",
   "execution_count": 103,
   "id": "03228fca",
   "metadata": {},
   "outputs": [
    {
     "data": {
      "application/vnd.jupyter.widget-view+json": {
       "model_id": "5ed202b79c114e13b1d7783f1dbd2b65",
       "version_major": 2,
       "version_minor": 0
      },
      "text/plain": [
       "VBox()"
      ]
     },
     "metadata": {},
     "output_type": "display_data"
    },
    {
     "data": {
      "application/vnd.jupyter.widget-view+json": {
       "model_id": "",
       "version_major": 2,
       "version_minor": 0
      },
      "text/plain": [
       "FloatProgress(value=0.0, bar_style='info', description='Progress:', layout=Layout(height='25px', width='50%'),…"
      ]
     },
     "metadata": {},
     "output_type": "display_data"
    },
    {
     "name": "stdout",
     "output_type": "stream",
     "text": [
      "+---------+--------------------+--------------------+\n",
      "|titleType|        primaryTitle|              genres|\n",
      "+---------+--------------------+--------------------+\n",
      "|    short|          Carmencita|   Documentary,Short|\n",
      "|    short|Le clown et ses c...|     Animation,Short|\n",
      "|    short|      Pauvre Pierrot|Animation,Comedy,...|\n",
      "|    short|         Un bon bock|     Animation,Short|\n",
      "|    short|    Blacksmith Scene|        Comedy,Short|\n",
      "|    short|   Chinese Opium Den|               Short|\n",
      "|    short|Corbett and Court...|         Short,Sport|\n",
      "|    short|Edison Kinetoscop...|   Documentary,Short|\n",
      "|    movie|          Miss Jerry|             Romance|\n",
      "|    short| Exiting the Factory|   Documentary,Short|\n",
      "+---------+--------------------+--------------------+"
     ]
    }
   ],
   "source": [
    "genres.createOrReplaceTempView('Genres')\n",
    "sqlgenres1 = spark.sql(\n",
    "'''\n",
    "SELECT titleType, primaryTitle, genres\n",
    "FROM Genres\n",
    "LIMIT 10\n",
    "'''\n",
    ")\n",
    "sqlgenres1.show()"
   ]
  },
  {
   "cell_type": "code",
   "execution_count": 12,
   "id": "698277f2",
   "metadata": {},
   "outputs": [
    {
     "data": {
      "application/vnd.jupyter.widget-view+json": {
       "model_id": "62d9eaebbde847bf9d8f232aab21d86c",
       "version_major": 2,
       "version_minor": 0
      },
      "text/plain": [
       "VBox()"
      ]
     },
     "metadata": {},
     "output_type": "display_data"
    },
    {
     "data": {
      "application/vnd.jupyter.widget-view+json": {
       "model_id": "",
       "version_major": 2,
       "version_minor": 0
      },
      "text/plain": [
       "FloatProgress(value=0.0, bar_style='info', description='Progress:', layout=Layout(height='25px', width='50%'),…"
      ]
     },
     "metadata": {},
     "output_type": "display_data"
    },
    {
     "name": "stdout",
     "output_type": "stream",
     "text": [
      "+------------+\n",
      "|   titleType|\n",
      "+------------+\n",
      "|    tvSeries|\n",
      "|tvMiniSeries|\n",
      "|       movie|\n",
      "|   videoGame|\n",
      "|   tvSpecial|\n",
      "|       video|\n",
      "|     tvMovie|\n",
      "|   tvEpisode|\n",
      "|     tvShort|\n",
      "|       short|\n",
      "+------------+"
     ]
    }
   ],
   "source": [
    "genres.select('titleType').distinct().show()"
   ]
  },
  {
   "cell_type": "code",
   "execution_count": 13,
   "id": "0bb3e089",
   "metadata": {
    "scrolled": false
   },
   "outputs": [
    {
     "data": {
      "application/vnd.jupyter.widget-view+json": {
       "model_id": "4f8b0f9a9a604952bca57cbb762a834f",
       "version_major": 2,
       "version_minor": 0
      },
      "text/plain": [
       "VBox()"
      ]
     },
     "metadata": {},
     "output_type": "display_data"
    },
    {
     "data": {
      "application/vnd.jupyter.widget-view+json": {
       "model_id": "",
       "version_major": 2,
       "version_minor": 0
      },
      "text/plain": [
       "FloatProgress(value=0.0, bar_style='info', description='Progress:', layout=Layout(height='25px', width='50%'),…"
      ]
     },
     "metadata": {},
     "output_type": "display_data"
    },
    {
     "name": "stdout",
     "output_type": "stream",
     "text": [
      "root\n",
      " |-- tconst: string (nullable = true)\n",
      " |-- titleType: string (nullable = true)\n",
      " |-- primaryTitle: string (nullable = true)\n",
      " |-- originalTitle: string (nullable = true)\n",
      " |-- isAdult: string (nullable = true)\n",
      " |-- startYear: string (nullable = true)\n",
      " |-- endYear: string (nullable = true)\n",
      " |-- runtimeMinutes: string (nullable = true)\n",
      " |-- genres: string (nullable = true)"
     ]
    }
   ],
   "source": [
    "genres.printSchema()"
   ]
  },
  {
   "cell_type": "markdown",
   "id": "44fdeae7",
   "metadata": {},
   "source": [
    "## Movie Actors"
   ]
  },
  {
   "cell_type": "code",
   "execution_count": 14,
   "id": "ee412df1",
   "metadata": {
    "scrolled": true
   },
   "outputs": [
    {
     "data": {
      "application/vnd.jupyter.widget-view+json": {
       "model_id": "ae41bcd42d424d3b8c007bbb2f8f88b9",
       "version_major": 2,
       "version_minor": 0
      },
      "text/plain": [
       "VBox()"
      ]
     },
     "metadata": {},
     "output_type": "display_data"
    },
    {
     "data": {
      "application/vnd.jupyter.widget-view+json": {
       "model_id": "",
       "version_major": 2,
       "version_minor": 0
      },
      "text/plain": [
       "FloatProgress(value=0.0, bar_style='info', description='Progress:', layout=Layout(height='25px', width='50%'),…"
      ]
     },
     "metadata": {},
     "output_type": "display_data"
    },
    {
     "name": "stdout",
     "output_type": "stream",
     "text": [
      "root\n",
      " |-- tconst: string (nullable = true)\n",
      " |-- ordering: string (nullable = true)\n",
      " |-- nconst: string (nullable = true)\n",
      " |-- category: string (nullable = true)\n",
      " |-- job: string (nullable = true)\n",
      " |-- characters: string (nullable = true)"
     ]
    }
   ],
   "source": [
    "movie_actors.printSchema()"
   ]
  },
  {
   "cell_type": "code",
   "execution_count": 104,
   "id": "f55dd1a8",
   "metadata": {
    "scrolled": true
   },
   "outputs": [
    {
     "data": {
      "application/vnd.jupyter.widget-view+json": {
       "model_id": "40dcbdeb428c44c5a39422a6b61e04b0",
       "version_major": 2,
       "version_minor": 0
      },
      "text/plain": [
       "VBox()"
      ]
     },
     "metadata": {},
     "output_type": "display_data"
    },
    {
     "data": {
      "application/vnd.jupyter.widget-view+json": {
       "model_id": "",
       "version_major": 2,
       "version_minor": 0
      },
      "text/plain": [
       "FloatProgress(value=0.0, bar_style='info', description='Progress:', layout=Layout(height='25px', width='50%'),…"
      ]
     },
     "metadata": {},
     "output_type": "display_data"
    },
    {
     "name": "stdout",
     "output_type": "stream",
     "text": [
      "+---------+--------+---------+---------------+--------------------+-----------+\n",
      "|   tconst|ordering|   nconst|       category|                 job| characters|\n",
      "+---------+--------+---------+---------------+--------------------+-----------+\n",
      "|tt0000001|       1|nm1588970|           self|                  \\N|[\"Herself\"]|\n",
      "|tt0000001|       2|nm0005690|       director|                  \\N|         \\N|\n",
      "|tt0000001|       3|nm0374658|cinematographer|director of photo...|         \\N|\n",
      "|tt0000002|       1|nm0721526|       director|                  \\N|         \\N|\n",
      "|tt0000002|       2|nm1335271|       composer|                  \\N|         \\N|\n",
      "|tt0000003|       1|nm0721526|       director|                  \\N|         \\N|\n",
      "|tt0000003|       2|nm5442194|       producer|            producer|         \\N|\n",
      "|tt0000003|       3|nm1335271|       composer|                  \\N|         \\N|\n",
      "|tt0000003|       4|nm5442200|         editor|                  \\N|         \\N|\n",
      "|tt0000004|       1|nm0721526|       director|                  \\N|         \\N|\n",
      "+---------+--------+---------+---------------+--------------------+-----------+"
     ]
    }
   ],
   "source": [
    "movie_actors.createOrReplaceTempView('Movie_Actors')\n",
    "sqlmovie_actors = spark.sql(\n",
    "'''\n",
    "SELECT *\n",
    "FROM Movie_Actors\n",
    "LIMIT 10\n",
    "'''\n",
    ")\n",
    "sqlmovie_actors.show()"
   ]
  },
  {
   "cell_type": "markdown",
   "id": "58e8ffc1",
   "metadata": {},
   "source": [
    "## Movie Ratings"
   ]
  },
  {
   "cell_type": "code",
   "execution_count": 17,
   "id": "fc2ffef6",
   "metadata": {},
   "outputs": [
    {
     "data": {
      "application/vnd.jupyter.widget-view+json": {
       "model_id": "98098e9038a54f4783905bb6fd2899d5",
       "version_major": 2,
       "version_minor": 0
      },
      "text/plain": [
       "VBox()"
      ]
     },
     "metadata": {},
     "output_type": "display_data"
    },
    {
     "data": {
      "application/vnd.jupyter.widget-view+json": {
       "model_id": "",
       "version_major": 2,
       "version_minor": 0
      },
      "text/plain": [
       "FloatProgress(value=0.0, bar_style='info', description='Progress:', layout=Layout(height='25px', width='50%'),…"
      ]
     },
     "metadata": {},
     "output_type": "display_data"
    },
    {
     "name": "stdout",
     "output_type": "stream",
     "text": [
      "root\n",
      " |-- tconst: string (nullable = true)\n",
      " |-- averageRating: string (nullable = true)\n",
      " |-- numVotes: string (nullable = true)"
     ]
    }
   ],
   "source": [
    "movie_ratings.printSchema()"
   ]
  },
  {
   "cell_type": "code",
   "execution_count": 105,
   "id": "9ca249ed",
   "metadata": {},
   "outputs": [
    {
     "data": {
      "application/vnd.jupyter.widget-view+json": {
       "model_id": "b18e3329849143c69c1554c7244a06a0",
       "version_major": 2,
       "version_minor": 0
      },
      "text/plain": [
       "VBox()"
      ]
     },
     "metadata": {},
     "output_type": "display_data"
    },
    {
     "data": {
      "application/vnd.jupyter.widget-view+json": {
       "model_id": "",
       "version_major": 2,
       "version_minor": 0
      },
      "text/plain": [
       "FloatProgress(value=0.0, bar_style='info', description='Progress:', layout=Layout(height='25px', width='50%'),…"
      ]
     },
     "metadata": {},
     "output_type": "display_data"
    },
    {
     "name": "stdout",
     "output_type": "stream",
     "text": [
      "+---------+-------------+--------+\n",
      "|   tconst|averageRating|numVotes|\n",
      "+---------+-------------+--------+\n",
      "|tt7430722|          6.8|    9999|\n",
      "|tt4445154|          8.1|    9997|\n",
      "|tt2229907|          6.3|    9996|\n",
      "|tt0294097|          8.0|    9994|\n",
      "|tt0264734|          6.5|    9993|\n",
      "|tt8860450|          6.3|    9991|\n",
      "|tt2032572|          5.2|    9991|\n",
      "|tt1739480|          6.9|     999|\n",
      "|tt7681970|          5.3|     999|\n",
      "|tt1077089|          7.3|     999|\n",
      "+---------+-------------+--------+"
     ]
    }
   ],
   "source": [
    "movie_ratings.createOrReplaceTempView('Movie_Ratings')\n",
    "sqlmovie_ratings = spark.sql(\n",
    "'''\n",
    "SELECT *\n",
    "FROM Movie_Ratings\n",
    "ORDER BY numVotes DESC\n",
    "LIMIT 10\n",
    "'''\n",
    ")\n",
    "sqlmovie_ratings.show()"
   ]
  },
  {
   "cell_type": "markdown",
   "id": "71a903da",
   "metadata": {},
   "source": [
    "## Overview of Data"
   ]
  },
  {
   "cell_type": "code",
   "execution_count": 20,
   "id": "c52d4d40",
   "metadata": {
    "scrolled": true
   },
   "outputs": [
    {
     "data": {
      "application/vnd.jupyter.widget-view+json": {
       "model_id": "9e8b79e13f2b49d9be62751a5cb203e4",
       "version_major": 2,
       "version_minor": 0
      },
      "text/plain": [
       "VBox()"
      ]
     },
     "metadata": {},
     "output_type": "display_data"
    },
    {
     "data": {
      "application/vnd.jupyter.widget-view+json": {
       "model_id": "",
       "version_major": 2,
       "version_minor": 0
      },
      "text/plain": [
       "FloatProgress(value=0.0, bar_style='info', description='Progress:', layout=Layout(height='25px', width='50%'),…"
      ]
     },
     "metadata": {},
     "output_type": "display_data"
    },
    {
     "name": "stdout",
     "output_type": "stream",
     "text": [
      "Number of columns in Actors table: 6\n",
      "Number of rows in Actors table: 9,706,922\n",
      "Number of columns in Genres table: 9\n",
      "Number of rows in Genres table: 6,321,302\n",
      "Number of columns in Movie Actors table: 6\n",
      "Number of rows in Movie Actors table: 36,468,817\n",
      "Number of columns in Movie Ratings table: 3\n",
      "Number of rows in Movie Ratings table: 993,153"
     ]
    }
   ],
   "source": [
    "print(f'Number of columns in Actors table: {len(actors.dtypes)}')\n",
    "print(f'Number of rows in Actors table: {actors.count():,}')\n",
    "\n",
    "print(f'Number of columns in Genres table: {len(genres.dtypes)}')\n",
    "print(f'Number of rows in Genres table: {genres.count():,}')\n",
    "\n",
    "print(f'Number of columns in Movie Actors table: {len(movie_actors.dtypes)}')\n",
    "print(f'Number of rows in Movie Actors table: {movie_actors.count():,}')\n",
    "\n",
    "print(f'Number of columns in Movie Ratings table: {len(movie_ratings.dtypes)}')\n",
    "print(f'Number of rows in Movie Ratings table: {movie_ratings.count():,}')\n"
   ]
  },
  {
   "cell_type": "markdown",
   "id": "0609935a",
   "metadata": {},
   "source": [
    "# Part 2 - Analyzing Genres"
   ]
  },
  {
   "cell_type": "code",
   "execution_count": 7,
   "id": "cb9432e9",
   "metadata": {
    "scrolled": true
   },
   "outputs": [
    {
     "data": {
      "application/vnd.jupyter.widget-view+json": {
       "model_id": "2cd2cc0c5bb94dbca13801c68c6ca320",
       "version_major": 2,
       "version_minor": 0
      },
      "text/plain": [
       "VBox()"
      ]
     },
     "metadata": {},
     "output_type": "display_data"
    },
    {
     "data": {
      "application/vnd.jupyter.widget-view+json": {
       "model_id": "",
       "version_major": 2,
       "version_minor": 0
      },
      "text/plain": [
       "FloatProgress(value=0.0, bar_style='info', description='Progress:', layout=Layout(height='25px', width='50%'),…"
      ]
     },
     "metadata": {},
     "output_type": "display_data"
    },
    {
     "name": "stdout",
     "output_type": "stream",
     "text": [
      "+---------+---------+--------------------+\n",
      "|   tconst|titleType|              genres|\n",
      "+---------+---------+--------------------+\n",
      "|tt0000001|    short|   Documentary,Short|\n",
      "|tt0000002|    short|     Animation,Short|\n",
      "|tt0000003|    short|Animation,Comedy,...|\n",
      "|tt0000004|    short|     Animation,Short|\n",
      "|tt0000005|    short|        Comedy,Short|\n",
      "+---------+---------+--------------------+"
     ]
    }
   ],
   "source": [
    "sqlgenres2 = spark.sql(\n",
    "'''\n",
    "SELECT tconst, titleType, genres\n",
    "FROM Genres\n",
    "LIMIT 5\n",
    "'''\n",
    ")\n",
    "sqlgenres2.show()"
   ]
  },
  {
   "cell_type": "code",
   "execution_count": 4,
   "id": "69aac710",
   "metadata": {
    "scrolled": true
   },
   "outputs": [
    {
     "data": {
      "application/vnd.jupyter.widget-view+json": {
       "model_id": "486237fdf4134a5bb98236b78566e70d",
       "version_major": 2,
       "version_minor": 0
      },
      "text/plain": [
       "VBox()"
      ]
     },
     "metadata": {},
     "output_type": "display_data"
    },
    {
     "data": {
      "application/vnd.jupyter.widget-view+json": {
       "model_id": "",
       "version_major": 2,
       "version_minor": 0
      },
      "text/plain": [
       "FloatProgress(value=0.0, bar_style='info', description='Progress:', layout=Layout(height='25px', width='50%'),…"
      ]
     },
     "metadata": {},
     "output_type": "display_data"
    }
   ],
   "source": [
    "from pyspark.sql.functions import *\n",
    "genres1 = genres.withColumnRenamed(\"genre\",\"genres\").withColumn(\"genre\",explode(split(col(\"genres\"),'\\\\,'))).drop(\"genres\")"
   ]
  },
  {
   "cell_type": "code",
   "execution_count": 9,
   "id": "d213a119",
   "metadata": {
    "scrolled": true
   },
   "outputs": [
    {
     "data": {
      "application/vnd.jupyter.widget-view+json": {
       "model_id": "13271216a19c48ae9f2d6dd6b7c6be99",
       "version_major": 2,
       "version_minor": 0
      },
      "text/plain": [
       "VBox()"
      ]
     },
     "metadata": {},
     "output_type": "display_data"
    },
    {
     "data": {
      "application/vnd.jupyter.widget-view+json": {
       "model_id": "",
       "version_major": 2,
       "version_minor": 0
      },
      "text/plain": [
       "FloatProgress(value=0.0, bar_style='info', description='Progress:', layout=Layout(height='25px', width='50%'),…"
      ]
     },
     "metadata": {},
     "output_type": "display_data"
    },
    {
     "name": "stdout",
     "output_type": "stream",
     "text": [
      "+---------+---------+-----------+\n",
      "|   tconst|titleType|      genre|\n",
      "+---------+---------+-----------+\n",
      "|tt0000001|    short|Documentary|\n",
      "|tt0000001|    short|      Short|\n",
      "|tt0000002|    short|  Animation|\n",
      "|tt0000002|    short|      Short|\n",
      "|tt0000003|    short|  Animation|\n",
      "|tt0000003|    short|     Comedy|\n",
      "|tt0000003|    short|    Romance|\n",
      "|tt0000004|    short|  Animation|\n",
      "|tt0000004|    short|      Short|\n",
      "|tt0000005|    short|     Comedy|\n",
      "+---------+---------+-----------+"
     ]
    }
   ],
   "source": [
    "genres1.createOrReplaceTempView('Genres1')\n",
    "sql_genres1 = spark.sql(\n",
    "'''\n",
    "SELECT tconst, titleType, genre\n",
    "FROM Genres1\n",
    "LIMIT 10\n",
    "'''\n",
    ")\n",
    "sql_genres1.show()"
   ]
  },
  {
   "cell_type": "markdown",
   "id": "22b31133",
   "metadata": {},
   "source": [
    "## Total Unique Genres"
   ]
  },
  {
   "cell_type": "markdown",
   "id": "6e844b64",
   "metadata": {},
   "source": [
    "**What is the total number of unique genres available in the movie title type?**"
   ]
  },
  {
   "cell_type": "code",
   "execution_count": 24,
   "id": "54811c37",
   "metadata": {
    "scrolled": true
   },
   "outputs": [
    {
     "data": {
      "application/vnd.jupyter.widget-view+json": {
       "model_id": "1d9d0f751ca54be7a33d5e31c22d3a1f",
       "version_major": 2,
       "version_minor": 0
      },
      "text/plain": [
       "VBox()"
      ]
     },
     "metadata": {},
     "output_type": "display_data"
    },
    {
     "data": {
      "application/vnd.jupyter.widget-view+json": {
       "model_id": "",
       "version_major": 2,
       "version_minor": 0
      },
      "text/plain": [
       "FloatProgress(value=0.0, bar_style='info', description='Progress:', layout=Layout(height='25px', width='50%'),…"
      ]
     },
     "metadata": {},
     "output_type": "display_data"
    },
    {
     "name": "stdout",
     "output_type": "stream",
     "text": [
      "29"
     ]
    }
   ],
   "source": [
    "print(str(genres1.select('genre').distinct().count()))"
   ]
  },
  {
   "cell_type": "markdown",
   "id": "ba98b445",
   "metadata": {},
   "source": [
    "**What are the unique genres available?**"
   ]
  },
  {
   "cell_type": "code",
   "execution_count": 56,
   "id": "8bbf163c",
   "metadata": {},
   "outputs": [
    {
     "data": {
      "application/vnd.jupyter.widget-view+json": {
       "model_id": "ff285805f3434092a15cae197514870e",
       "version_major": 2,
       "version_minor": 0
      },
      "text/plain": [
       "VBox()"
      ]
     },
     "metadata": {},
     "output_type": "display_data"
    },
    {
     "data": {
      "application/vnd.jupyter.widget-view+json": {
       "model_id": "",
       "version_major": 2,
       "version_minor": 0
      },
      "text/plain": [
       "FloatProgress(value=0.0, bar_style='info', description='Progress:', layout=Layout(height='25px', width='50%'),…"
      ]
     },
     "metadata": {},
     "output_type": "display_data"
    },
    {
     "name": "stdout",
     "output_type": "stream",
     "text": [
      "+-----------+\n",
      "|      genre|\n",
      "+-----------+\n",
      "|    Mystery|\n",
      "|    Musical|\n",
      "|      Sport|\n",
      "|     Action|\n",
      "|  Talk-Show|\n",
      "|    Romance|\n",
      "|   Thriller|\n",
      "|         \\N|\n",
      "| Reality-TV|\n",
      "|     Family|\n",
      "|    Fantasy|\n",
      "|    History|\n",
      "|  Animation|\n",
      "|      Short|\n",
      "|  Film-Noir|\n",
      "|     Sci-Fi|\n",
      "|       News|\n",
      "|      Drama|\n",
      "|Documentary|\n",
      "|    Western|\n",
      "|     Comedy|\n",
      "|      Crime|\n",
      "|        War|\n",
      "|  Game-Show|\n",
      "|      Adult|\n",
      "|      Music|\n",
      "|  Biography|\n",
      "|  Adventure|\n",
      "|     Horror|\n",
      "+-----------+"
     ]
    }
   ],
   "source": [
    "sql_genres2 = spark.sql(\n",
    "'''\n",
    "SELECT DISTINCT genre\n",
    "FROM Genres1\n",
    "'''\n",
    ")\n",
    "sql_genres2.show(genres1.select('genre').distinct().count())"
   ]
  },
  {
   "cell_type": "code",
   "execution_count": 10,
   "id": "cfd64b42",
   "metadata": {
    "scrolled": false
   },
   "outputs": [
    {
     "data": {
      "application/vnd.jupyter.widget-view+json": {
       "model_id": "31d2941e14cf4109a7229da5924a3e86",
       "version_major": 2,
       "version_minor": 0
      },
      "text/plain": [
       "VBox()"
      ]
     },
     "metadata": {},
     "output_type": "display_data"
    },
    {
     "data": {
      "application/vnd.jupyter.widget-view+json": {
       "model_id": "",
       "version_major": 2,
       "version_minor": 0
      },
      "text/plain": [
       "FloatProgress(value=0.0, bar_style='info', description='Progress:', layout=Layout(height='25px', width='50%'),…"
      ]
     },
     "metadata": {},
     "output_type": "display_data"
    },
    {
     "name": "stdout",
     "output_type": "stream",
     "text": [
      "+-----------+\n",
      "|      genre|\n",
      "+-----------+\n",
      "|    Mystery|\n",
      "|    Musical|\n",
      "|      Sport|\n",
      "|     Action|\n",
      "|  Talk-Show|\n",
      "|    Romance|\n",
      "|   Thriller|\n",
      "| Reality-TV|\n",
      "|     Family|\n",
      "|    Fantasy|\n",
      "|    History|\n",
      "|  Animation|\n",
      "|      Short|\n",
      "|  Film-Noir|\n",
      "|     Sci-Fi|\n",
      "|       News|\n",
      "|      Drama|\n",
      "|Documentary|\n",
      "|    Western|\n",
      "|     Comedy|\n",
      "|      Crime|\n",
      "|        War|\n",
      "|  Game-Show|\n",
      "|      Adult|\n",
      "|      Music|\n",
      "|  Biography|\n",
      "|  Adventure|\n",
      "|     Horror|\n",
      "+-----------+"
     ]
    }
   ],
   "source": [
    "genres2 = genres1.filter(genres1.genre != '\\\\N')\n",
    "\n",
    "genres2.createOrReplaceTempView('Genres2')\n",
    "sql_genres2 = spark.sql(\n",
    "'''\n",
    "SELECT DISTINCT genre\n",
    "FROM Genres2\n",
    "'''\n",
    ")\n",
    "sql_genres2.show(genres2.select('genre').distinct().count())"
   ]
  },
  {
   "cell_type": "markdown",
   "id": "5eb143e4",
   "metadata": {},
   "source": [
    "# Top Genres by Movies"
   ]
  },
  {
   "cell_type": "code",
   "execution_count": 6,
   "id": "e91ac05f",
   "metadata": {},
   "outputs": [
    {
     "data": {
      "application/vnd.jupyter.widget-view+json": {
       "model_id": "30e70b0737be47788919157d3a7293c0",
       "version_major": 2,
       "version_minor": 0
      },
      "text/plain": [
       "VBox()"
      ]
     },
     "metadata": {},
     "output_type": "display_data"
    },
    {
     "data": {
      "application/vnd.jupyter.widget-view+json": {
       "model_id": "",
       "version_major": 2,
       "version_minor": 0
      },
      "text/plain": [
       "FloatProgress(value=0.0, bar_style='info', description='Progress:', layout=Layout(height='25px', width='50%'),…"
      ]
     },
     "metadata": {},
     "output_type": "display_data"
    }
   ],
   "source": [
    "movie_and_genres  = genres2.join(movie_ratings,[\"tconst\"])"
   ]
  },
  {
   "cell_type": "code",
   "execution_count": null,
   "id": "a5100351",
   "metadata": {},
   "outputs": [],
   "source": [
    "movie_and_genres.createOrReplaceTempView('Movie_and_Genres')"
   ]
  },
  {
   "cell_type": "code",
   "execution_count": 78,
   "id": "53360442",
   "metadata": {
    "scrolled": false
   },
   "outputs": [
    {
     "data": {
      "application/vnd.jupyter.widget-view+json": {
       "model_id": "541a48121cde43e3b3c9c2abe36fd691",
       "version_major": 2,
       "version_minor": 0
      },
      "text/plain": [
       "VBox()"
      ]
     },
     "metadata": {},
     "output_type": "display_data"
    },
    {
     "data": {
      "application/vnd.jupyter.widget-view+json": {
       "model_id": "",
       "version_major": 2,
       "version_minor": 0
      },
      "text/plain": [
       "FloatProgress(value=0.0, bar_style='info', description='Progress:', layout=Layout(height='25px', width='50%'),…"
      ]
     },
     "metadata": {},
     "output_type": "display_data"
    },
    {
     "name": "stdout",
     "output_type": "stream",
     "text": [
      "+---------+-------------+\n",
      "|    genre|averageRating|\n",
      "+---------+-------------+\n",
      "|    Drama|          4.2|\n",
      "|    Drama|          4.2|\n",
      "|Biography|          4.1|\n",
      "|    Drama|          4.1|\n",
      "|  History|          4.1|\n",
      "|    Drama|          5.7|\n",
      "|    Drama|          4.6|\n",
      "|  History|          4.6|\n",
      "|Biography|          6.3|\n",
      "|    Drama|          6.3|\n",
      "+---------+-------------+\n",
      "only showing top 10 rows"
     ]
    }
   ],
   "source": [
    "sql_movie_and_genres = spark.sql(\n",
    "'''\n",
    "SELECT genre, averageRating\n",
    "FROM Movie_and_Genres\n",
    "WHERE titleType = 'movie'\n",
    "'''\n",
    ")\n",
    "sql_movie_and_genres.show(10)"
   ]
  },
  {
   "cell_type": "code",
   "execution_count": 84,
   "id": "6832b904",
   "metadata": {
    "scrolled": false
   },
   "outputs": [
    {
     "data": {
      "application/vnd.jupyter.widget-view+json": {
       "model_id": "421373cdb243485788b557f7d0577d09",
       "version_major": 2,
       "version_minor": 0
      },
      "text/plain": [
       "VBox()"
      ]
     },
     "metadata": {},
     "output_type": "display_data"
    },
    {
     "data": {
      "application/vnd.jupyter.widget-view+json": {
       "model_id": "",
       "version_major": 2,
       "version_minor": 0
      },
      "text/plain": [
       "FloatProgress(value=0.0, bar_style='info', description='Progress:', layout=Layout(height='25px', width='50%'),…"
      ]
     },
     "metadata": {},
     "output_type": "display_data"
    },
    {
     "name": "stdout",
     "output_type": "stream",
     "text": [
      "+-----------+------------------+\n",
      "|      genre|        avg_rating|\n",
      "+-----------+------------------+\n",
      "|    Mystery|5.9404375359815775|\n",
      "|    Musical|  6.20324605451937|\n",
      "|     Action|  5.71873406966865|\n",
      "|      Sport| 6.600145190562612|\n",
      "|  Talk-Show|               5.8|\n",
      "|    Romance| 6.125714180397362|\n",
      "|   Thriller| 5.625967566447333|\n",
      "| Reality-TV| 6.379310344827587|\n",
      "|     Family| 6.250560452715203|\n",
      "|    Fantasy| 5.924820762833382|\n",
      "|    History| 6.822718115605145|\n",
      "|  Animation| 6.326203750633553|\n",
      "|  Film-Noir| 6.636246786632391|\n",
      "|      Short|              7.26|\n",
      "|     Sci-Fi| 5.325150008571918|\n",
      "|       News|7.2009160305343505|\n",
      "|      Drama| 6.288080210387901|\n",
      "|Documentary| 7.245469798657718|\n",
      "|    Western| 5.948970989337962|\n",
      "|     Comedy| 5.941363108004129|\n",
      "+-----------+------------------+\n",
      "only showing top 20 rows"
     ]
    }
   ],
   "source": [
    "sql_movie_and_genres_avg = spark.sql(\n",
    "'''\n",
    "SELECT genre, AVG(CAST(averageRating AS double))AS avg_rating\n",
    "FROM Movie_and_Genres\n",
    "WHERE titleType = 'movie'\n",
    "GROUP BY genre\n",
    "'''\n",
    ")\n",
    "sql_movie_and_genres_avg.show()"
   ]
  },
  {
   "cell_type": "code",
   "execution_count": 86,
   "id": "01db458d",
   "metadata": {},
   "outputs": [
    {
     "data": {
      "application/vnd.jupyter.widget-view+json": {
       "model_id": "418dfe53b1644822be42d003afe019aa",
       "version_major": 2,
       "version_minor": 0
      },
      "text/plain": [
       "VBox()"
      ]
     },
     "metadata": {},
     "output_type": "display_data"
    },
    {
     "data": {
      "application/vnd.jupyter.widget-view+json": {
       "model_id": "",
       "version_major": 2,
       "version_minor": 0
      },
      "text/plain": [
       "FloatProgress(value=0.0, bar_style='info', description='Progress:', layout=Layout(height='25px', width='50%'),…"
      ]
     },
     "metadata": {},
     "output_type": "display_data"
    },
    {
     "name": "stdout",
     "output_type": "stream",
     "text": [
      "+-----------+------------------+\n",
      "|      genre|        avg_rating|\n",
      "+-----------+------------------+\n",
      "|      Short| 7.260000000000001|\n",
      "|Documentary|7.2454697986577195|\n",
      "|       News|7.2009160305343505|\n",
      "|  Biography| 6.983637640449438|\n",
      "|  Game-Show|             6.975|\n",
      "|    History| 6.822718115605146|\n",
      "|      Music|6.7520202020202005|\n",
      "|  Film-Noir| 6.636246786632392|\n",
      "|      Sport| 6.600145190562612|\n",
      "|        War|  6.48380703066567|\n",
      "| Reality-TV| 6.379310344827586|\n",
      "|  Animation| 6.326203750633555|\n",
      "|      Drama| 6.288080210387901|\n",
      "|     Family|6.2505604527152006|\n",
      "|    Musical| 6.203246054519368|\n",
      "|    Romance| 6.125714180397363|\n",
      "|      Crime| 6.026013332684541|\n",
      "|    Western| 5.948970989337961|\n",
      "|     Comedy| 5.941363108004129|\n",
      "|    Mystery| 5.940437535981577|\n",
      "+-----------+------------------+\n",
      "only showing top 20 rows"
     ]
    }
   ],
   "source": [
    "sql_top_genres = spark.sql(\n",
    "'''\n",
    "SELECT genre, AVG(averageRating) AS avg_rating\n",
    "FROM Movie_and_Genres\n",
    "WHERE titleType = 'movie'\n",
    "GROUP BY genre\n",
    "ORDER BY avg_rating DESC\n",
    "'''\n",
    ")\n",
    "sql_top_genres.show()"
   ]
  },
  {
   "cell_type": "code",
   "execution_count": 90,
   "id": "82b56375",
   "metadata": {
    "scrolled": false
   },
   "outputs": [
    {
     "data": {
      "application/vnd.jupyter.widget-view+json": {
       "model_id": "33131c780b6c41d08c02090af102de77",
       "version_major": 2,
       "version_minor": 0
      },
      "text/plain": [
       "VBox()"
      ]
     },
     "metadata": {},
     "output_type": "display_data"
    },
    {
     "data": {
      "application/vnd.jupyter.widget-view+json": {
       "model_id": "",
       "version_major": 2,
       "version_minor": 0
      },
      "text/plain": [
       "FloatProgress(value=0.0, bar_style='info', description='Progress:', layout=Layout(height='25px', width='50%'),…"
      ]
     },
     "metadata": {},
     "output_type": "display_data"
    },
    {
     "data": {
      "image/png": "[encoded data removed]",
      "text/plain": [
       "<IPython.core.display.Image object>"
      ]
     },
     "metadata": {},
     "output_type": "display_data"
    }
   ],
   "source": [
    "sql_top_genres.toPandas().set_index(\"genre\").plot(kind=\"barh\", figsize = (10,8),color = \"purple\")\n",
    "plt.xlabel(\"Average Rating\")\n",
    "plt.ylabel(\"Genre\")\n",
    "plt.title(\"Top Genres in the Movie Category\")\n",
    "\n",
    "ax=plt.gca()\n",
    "ax.set_ylim(ax.get_ylim()[::-1])\n",
    "ax.set_xlim([5.0,7.5])\n",
    "\n",
    "%matplot plt"
   ]
  },
  {
   "cell_type": "markdown",
   "id": "1e674cda",
   "metadata": {},
   "source": [
    "# Part 3 - Analyzing Job Categories"
   ]
  },
  {
   "cell_type": "markdown",
   "id": "85719f70",
   "metadata": {},
   "source": [
    "## Total Unique Job Categories"
   ]
  },
  {
   "cell_type": "markdown",
   "id": "69e7157f",
   "metadata": {},
   "source": [
    "**What is the total number of unique job categories?**"
   ]
  },
  {
   "cell_type": "code",
   "execution_count": 96,
   "id": "ba81524c",
   "metadata": {},
   "outputs": [
    {
     "data": {
      "application/vnd.jupyter.widget-view+json": {
       "model_id": "dd7e116db4e84bbfaacd8c0c05c1155e",
       "version_major": 2,
       "version_minor": 0
      },
      "text/plain": [
       "VBox()"
      ]
     },
     "metadata": {},
     "output_type": "display_data"
    },
    {
     "data": {
      "application/vnd.jupyter.widget-view+json": {
       "model_id": "",
       "version_major": 2,
       "version_minor": 0
      },
      "text/plain": [
       "FloatProgress(value=0.0, bar_style='info', description='Progress:', layout=Layout(height='25px', width='50%'),…"
      ]
     },
     "metadata": {},
     "output_type": "display_data"
    },
    {
     "name": "stdout",
     "output_type": "stream",
     "text": [
      "+---------+---------------+\n",
      "|   tconst|       category|\n",
      "+---------+---------------+\n",
      "|tt0000001|           self|\n",
      "|tt0000001|       director|\n",
      "|tt0000001|cinematographer|\n",
      "|tt0000002|       director|\n",
      "|tt0000002|       composer|\n",
      "+---------+---------------+\n",
      "only showing top 5 rows"
     ]
    }
   ],
   "source": [
    "movie_actors.createOrReplaceTempView('Job_Categories')\n",
    "sql_job = spark.sql(\n",
    "'''\n",
    "SELECT tconst, category\n",
    "FROM Job_Categories\n",
    "'''\n",
    ")\n",
    "sql_job.show(5)"
   ]
  },
  {
   "cell_type": "code",
   "execution_count": 91,
   "id": "94c73e1d",
   "metadata": {
    "scrolled": true
   },
   "outputs": [
    {
     "data": {
      "application/vnd.jupyter.widget-view+json": {
       "model_id": "444f6f4f4faf4b0f860e3fa7bfa56245",
       "version_major": 2,
       "version_minor": 0
      },
      "text/plain": [
       "VBox()"
      ]
     },
     "metadata": {},
     "output_type": "display_data"
    },
    {
     "data": {
      "application/vnd.jupyter.widget-view+json": {
       "model_id": "",
       "version_major": 2,
       "version_minor": 0
      },
      "text/plain": [
       "FloatProgress(value=0.0, bar_style='info', description='Progress:', layout=Layout(height='25px', width='50%'),…"
      ]
     },
     "metadata": {},
     "output_type": "display_data"
    },
    {
     "name": "stdout",
     "output_type": "stream",
     "text": [
      "12"
     ]
    }
   ],
   "source": [
    "print(str(movie_actors.select('category').distinct().count()))"
   ]
  },
  {
   "cell_type": "markdown",
   "id": "d8037005",
   "metadata": {},
   "source": [
    "**What are the unique job categories available?**"
   ]
  },
  {
   "cell_type": "code",
   "execution_count": 93,
   "id": "04df34e2",
   "metadata": {
    "scrolled": true
   },
   "outputs": [
    {
     "data": {
      "application/vnd.jupyter.widget-view+json": {
       "model_id": "35bf8c395a524d5bb1f85c01ec112967",
       "version_major": 2,
       "version_minor": 0
      },
      "text/plain": [
       "VBox()"
      ]
     },
     "metadata": {},
     "output_type": "display_data"
    },
    {
     "data": {
      "application/vnd.jupyter.widget-view+json": {
       "model_id": "",
       "version_major": 2,
       "version_minor": 0
      },
      "text/plain": [
       "FloatProgress(value=0.0, bar_style='info', description='Progress:', layout=Layout(height='25px', width='50%'),…"
      ]
     },
     "metadata": {},
     "output_type": "display_data"
    },
    {
     "name": "stdout",
     "output_type": "stream",
     "text": [
      "+-------------------+\n",
      "|           category|\n",
      "+-------------------+\n",
      "|            actress|\n",
      "|           producer|\n",
      "|production_designer|\n",
      "|             writer|\n",
      "|              actor|\n",
      "|    cinematographer|\n",
      "|      archive_sound|\n",
      "|    archive_footage|\n",
      "|               self|\n",
      "|             editor|\n",
      "|           composer|\n",
      "|           director|\n",
      "+-------------------+"
     ]
    }
   ],
   "source": [
    "sql_job_unique = spark.sql(\n",
    "'''\n",
    "SELECT DISTINCT category\n",
    "FROM Job_Categories\n",
    "'''\n",
    ")\n",
    "sql_job_unique.show()"
   ]
  },
  {
   "cell_type": "markdown",
   "id": "0ccfc64b",
   "metadata": {},
   "source": [
    "# Top Job Categories"
   ]
  },
  {
   "cell_type": "code",
   "execution_count": 97,
   "id": "6a49c95c",
   "metadata": {},
   "outputs": [
    {
     "data": {
      "application/vnd.jupyter.widget-view+json": {
       "model_id": "1b23038626104a5c826b131b3450460d",
       "version_major": 2,
       "version_minor": 0
      },
      "text/plain": [
       "VBox()"
      ]
     },
     "metadata": {},
     "output_type": "display_data"
    },
    {
     "data": {
      "application/vnd.jupyter.widget-view+json": {
       "model_id": "",
       "version_major": 2,
       "version_minor": 0
      },
      "text/plain": [
       "FloatProgress(value=0.0, bar_style='info', description='Progress:', layout=Layout(height='25px', width='50%'),…"
      ]
     },
     "metadata": {},
     "output_type": "display_data"
    },
    {
     "name": "stdout",
     "output_type": "stream",
     "text": [
      "+-------------------+-------+\n",
      "|           category|  count|\n",
      "+-------------------+-------+\n",
      "|            actress|6325097|\n",
      "|           producer|2197866|\n",
      "|production_designer| 285924|\n",
      "|             writer|4811596|\n",
      "|              actor|8493701|\n",
      "|    cinematographer|1300404|\n",
      "|      archive_sound|   2143|\n",
      "|    archive_footage| 209035|\n",
      "|               self|6153089|\n",
      "|             editor|1197669|\n",
      "|           composer|1313187|\n",
      "|           director|4179106|\n",
      "+-------------------+-------+"
     ]
    }
   ],
   "source": [
    "sql_job_count = spark.sql(\n",
    "'''\n",
    "SELECT category, count(tconst) as count\n",
    "FROM Job_Categories\n",
    "GROUP BY category\n",
    "'''\n",
    ")\n",
    "sql_job_count.show()"
   ]
  },
  {
   "cell_type": "code",
   "execution_count": 98,
   "id": "ecd55b83",
   "metadata": {
    "scrolled": true
   },
   "outputs": [
    {
     "data": {
      "application/vnd.jupyter.widget-view+json": {
       "model_id": "72bfe72203bd428381fa288358411408",
       "version_major": 2,
       "version_minor": 0
      },
      "text/plain": [
       "VBox()"
      ]
     },
     "metadata": {},
     "output_type": "display_data"
    },
    {
     "data": {
      "application/vnd.jupyter.widget-view+json": {
       "model_id": "",
       "version_major": 2,
       "version_minor": 0
      },
      "text/plain": [
       "FloatProgress(value=0.0, bar_style='info', description='Progress:', layout=Layout(height='25px', width='50%'),…"
      ]
     },
     "metadata": {},
     "output_type": "display_data"
    },
    {
     "name": "stdout",
     "output_type": "stream",
     "text": [
      "+-------------------+-------+\n",
      "|           category|  count|\n",
      "+-------------------+-------+\n",
      "|              actor|8493701|\n",
      "|            actress|6325097|\n",
      "|               self|6153089|\n",
      "|             writer|4811596|\n",
      "|           director|4179106|\n",
      "|           producer|2197866|\n",
      "|           composer|1313187|\n",
      "|    cinematographer|1300404|\n",
      "|             editor|1197669|\n",
      "|production_designer| 285924|\n",
      "|    archive_footage| 209035|\n",
      "|      archive_sound|   2143|\n",
      "+-------------------+-------+"
     ]
    }
   ],
   "source": [
    "sql_job_top = spark.sql(\n",
    "'''\n",
    "SELECT category, count(tconst) as count\n",
    "FROM Job_Categories\n",
    "GROUP BY category\n",
    "ORDER BY count DESC\n",
    "'''\n",
    ")\n",
    "sql_job_top.show()"
   ]
  },
  {
   "cell_type": "code",
   "execution_count": 99,
   "id": "7f03225c",
   "metadata": {
    "scrolled": false
   },
   "outputs": [
    {
     "data": {
      "application/vnd.jupyter.widget-view+json": {
       "model_id": "cc18916b3cd747b2aff8676be1967516",
       "version_major": 2,
       "version_minor": 0
      },
      "text/plain": [
       "VBox()"
      ]
     },
     "metadata": {},
     "output_type": "display_data"
    },
    {
     "data": {
      "application/vnd.jupyter.widget-view+json": {
       "model_id": "",
       "version_major": 2,
       "version_minor": 0
      },
      "text/plain": [
       "FloatProgress(value=0.0, bar_style='info', description='Progress:', layout=Layout(height='25px', width='50%'),…"
      ]
     },
     "metadata": {},
     "output_type": "display_data"
    },
    {
     "data": {
      "image/png": "[encoded data removed]",
      "text/plain": [
       "<IPython.core.display.Image object>"
      ]
     },
     "metadata": {},
     "output_type": "display_data"
    }
   ],
   "source": [
    "ax = sql_job_top.toPandas().set_index(\"category\").nlargest(5,\"count\").plot(kind=\"bar\", color = \"orange\")\n",
    "ax.set_ylabel(\"Count\")\n",
    "plt.title(\"Top Job Categories\")\n",
    "plt.xticks(rotation=30)\n",
    "\n",
    "ax.set_ylim([3000000,9000000])\n",
    "\n",
    "%matplot plt"
   ]
  },
  {
   "cell_type": "markdown",
   "id": "59dc2e1d",
   "metadata": {},
   "source": [
    "# Part 4"
   ]
  },
  {
   "cell_type": "code",
   "execution_count": 27,
   "id": "b37b2b83",
   "metadata": {},
   "outputs": [
    {
     "data": {
      "application/vnd.jupyter.widget-view+json": {
       "model_id": "b64940e0f83f42438453844ab053f7f6",
       "version_major": 2,
       "version_minor": 0
      },
      "text/plain": [
       "VBox()"
      ]
     },
     "metadata": {},
     "output_type": "display_data"
    },
    {
     "data": {
      "application/vnd.jupyter.widget-view+json": {
       "model_id": "",
       "version_major": 2,
       "version_minor": 0
      },
      "text/plain": [
       "FloatProgress(value=0.0, bar_style='info', description='Progress:', layout=Layout(height='25px', width='50%'),…"
      ]
     },
     "metadata": {},
     "output_type": "display_data"
    }
   ],
   "source": [
    "actor_movie_actors = actors.join(movie_actors,[\"nconst\"])\n",
    "\n",
    "genres_actor_movies = genres.join(actor_movie_actors,[\"tconst\"])"
   ]
  },
  {
   "cell_type": "code",
   "execution_count": 28,
   "id": "6d0cf448",
   "metadata": {},
   "outputs": [
    {
     "data": {
      "application/vnd.jupyter.widget-view+json": {
       "model_id": "9b9edc94fc0649418388a4872fcf4379",
       "version_major": 2,
       "version_minor": 0
      },
      "text/plain": [
       "VBox()"
      ]
     },
     "metadata": {},
     "output_type": "display_data"
    },
    {
     "data": {
      "application/vnd.jupyter.widget-view+json": {
       "model_id": "",
       "version_major": 2,
       "version_minor": 0
      },
      "text/plain": [
       "FloatProgress(value=0.0, bar_style='info', description='Progress:', layout=Layout(height='25px', width='50%'),…"
      ]
     },
     "metadata": {},
     "output_type": "display_data"
    }
   ],
   "source": [
    "genres_actor_movies.createOrReplaceTempView('Actor_Titles')"
   ]
  },
  {
   "cell_type": "markdown",
   "id": "bd304090",
   "metadata": {},
   "source": [
    "## 1) Find all the \"movies\" \"acted\" by both \"Johnny Depp\" and \"Helena Bonham Carter\"."
   ]
  },
  {
   "cell_type": "code",
   "execution_count": 23,
   "id": "7a8f3963",
   "metadata": {},
   "outputs": [
    {
     "data": {
      "application/vnd.jupyter.widget-view+json": {
       "model_id": "9428c12e4f2d42c09b9c90801660867e",
       "version_major": 2,
       "version_minor": 0
      },
      "text/plain": [
       "VBox()"
      ]
     },
     "metadata": {},
     "output_type": "display_data"
    },
    {
     "data": {
      "application/vnd.jupyter.widget-view+json": {
       "model_id": "",
       "version_major": 2,
       "version_minor": 0
      },
      "text/plain": [
       "FloatProgress(value=0.0, bar_style='info', description='Progress:', layout=Layout(height='25px', width='50%'),…"
      ]
     },
     "metadata": {},
     "output_type": "display_data"
    },
    {
     "name": "stdout",
     "output_type": "stream",
     "text": [
      "+----------------------------------------------+\n",
      "|primaryTitle                                  |\n",
      "+----------------------------------------------+\n",
      "|Corpse Bride                                  |\n",
      "|Dark Shadows                                  |\n",
      "|Charlie and the Chocolate Factory             |\n",
      "|Alice Through the Looking Glass               |\n",
      "|Sweeney Todd: The Demon Barber of Fleet Street|\n",
      "|Alice in Wonderland                           |\n",
      "+----------------------------------------------+"
     ]
    }
   ],
   "source": [
    "sql_j_h = spark.sql(\n",
    "'''\n",
    "SELECT DISTINCT primaryTitle\n",
    "FROM Actor_Titles \n",
    "WHERE titletype = 'movie' AND category IN ('actor', 'actress') AND primaryName IN ('Johnny Depp', 'Helena Bonham Carter')\n",
    "GROUP BY primaryTitle\n",
    "HAVING COUNT(primaryTitle) > 1\n",
    "'''\n",
    ")\n",
    "sql_j_h.show(truncate = False)"
   ]
  },
  {
   "cell_type": "markdown",
   "id": "44983961",
   "metadata": {},
   "source": [
    "## 2) Find all the \"movies\" \"acted\" by \"Brad Pitt\" after 2010."
   ]
  },
  {
   "cell_type": "code",
   "execution_count": 29,
   "id": "177a8fab",
   "metadata": {
    "scrolled": false
   },
   "outputs": [
    {
     "data": {
      "application/vnd.jupyter.widget-view+json": {
       "model_id": "7b11acacfc5f4e0ba4c8de89c6bef927",
       "version_major": 2,
       "version_minor": 0
      },
      "text/plain": [
       "VBox()"
      ]
     },
     "metadata": {},
     "output_type": "display_data"
    },
    {
     "data": {
      "application/vnd.jupyter.widget-view+json": {
       "model_id": "",
       "version_major": 2,
       "version_minor": 0
      },
      "text/plain": [
       "FloatProgress(value=0.0, bar_style='info', description='Progress:', layout=Layout(height='25px', width='50%'),…"
      ]
     },
     "metadata": {},
     "output_type": "display_data"
    },
    {
     "name": "stdout",
     "output_type": "stream",
     "text": [
      "+---------------------------------+---------+\n",
      "|primaryTitle                     |startYear|\n",
      "+---------------------------------+---------+\n",
      "|Babylon                          |2021     |\n",
      "|The Tree of Life                 |2011     |\n",
      "|World War Z                      |2013     |\n",
      "|12 Years a Slave                 |2013     |\n",
      "|The Big Short                    |2015     |\n",
      "|Fury                             |2014     |\n",
      "|Moneyball                        |2011     |\n",
      "|Killing Them Softly              |2012     |\n",
      "|Ad Astra                         |2019     |\n",
      "|By the Sea                       |2015     |\n",
      "|Allied                           |2016     |\n",
      "|War Machine                      |2017     |\n",
      "|Once Upon a Time ... in Hollywood|2019     |\n",
      "+---------------------------------+---------+"
     ]
    }
   ],
   "source": [
    "sql_bp1 = spark.sql(\n",
    "'''\n",
    "SELECT primaryTitle, startYear\n",
    "FROM Actor_Titles \n",
    "WHERE titletype = 'movie' AND category = 'actor' AND primaryName = 'Brad Pitt' AND startYear > 2010\n",
    "'''\n",
    ")\n",
    "sql_bp1.show(truncate = False)"
   ]
  },
  {
   "cell_type": "markdown",
   "id": "aa29bb41",
   "metadata": {},
   "source": [
    "## 3) What is the number of \"movies\" \"acted\" by \"Zendaya\" per year?"
   ]
  },
  {
   "cell_type": "code",
   "execution_count": 45,
   "id": "8f0b3880",
   "metadata": {},
   "outputs": [
    {
     "data": {
      "application/vnd.jupyter.widget-view+json": {
       "model_id": "9ab63ea2d36d4e85a2971602bc4b49b8",
       "version_major": 2,
       "version_minor": 0
      },
      "text/plain": [
       "VBox()"
      ]
     },
     "metadata": {},
     "output_type": "display_data"
    },
    {
     "data": {
      "application/vnd.jupyter.widget-view+json": {
       "model_id": "",
       "version_major": 2,
       "version_minor": 0
      },
      "text/plain": [
       "FloatProgress(value=0.0, bar_style='info', description='Progress:', layout=Layout(height='25px', width='50%'),…"
      ]
     },
     "metadata": {},
     "output_type": "display_data"
    },
    {
     "name": "stdout",
     "output_type": "stream",
     "text": [
      "+---------+-----+\n",
      "|startYear|count|\n",
      "+---------+-----+\n",
      "|2020     |1    |\n",
      "|2018     |2    |\n",
      "|2017     |1    |\n",
      "+---------+-----+"
     ]
    }
   ],
   "source": [
    "sql_zen = spark.sql(\n",
    "'''\n",
    "SELECT startYear, count(primaryTitle) as count\n",
    "FROM Actor_Titles \n",
    "WHERE titletype = 'movie' AND category = 'actress' AND primaryName = 'Zendaya' AND NOT startYear = '\\\\\\\\N'\n",
    "GROUP BY startYear\n",
    "'''\n",
    ")\n",
    "sql_zen.show(truncate = False)"
   ]
  },
  {
   "cell_type": "markdown",
   "id": "215d7919",
   "metadata": {},
   "source": [
    "## 4) What are the \"movies\" by average rating greater than \"9.7\" and released in \"2019\"?"
   ]
  },
  {
   "cell_type": "code",
   "execution_count": 74,
   "id": "cecc9dc1",
   "metadata": {},
   "outputs": [
    {
     "data": {
      "application/vnd.jupyter.widget-view+json": {
       "model_id": "137f038d417d4af2be5cf9e5cbbe28c4",
       "version_major": 2,
       "version_minor": 0
      },
      "text/plain": [
       "VBox()"
      ]
     },
     "metadata": {},
     "output_type": "display_data"
    },
    {
     "data": {
      "application/vnd.jupyter.widget-view+json": {
       "model_id": "",
       "version_major": 2,
       "version_minor": 0
      },
      "text/plain": [
       "FloatProgress(value=0.0, bar_style='info', description='Progress:', layout=Layout(height='25px', width='50%'),…"
      ]
     },
     "metadata": {},
     "output_type": "display_data"
    }
   ],
   "source": [
    "title_rating = genres.join(movie_ratings,[\"tconst\"])"
   ]
  },
  {
   "cell_type": "code",
   "execution_count": 76,
   "id": "989a3308",
   "metadata": {},
   "outputs": [
    {
     "data": {
      "application/vnd.jupyter.widget-view+json": {
       "model_id": "be534ebb2d014a5097900dc617fd0e68",
       "version_major": 2,
       "version_minor": 0
      },
      "text/plain": [
       "VBox()"
      ]
     },
     "metadata": {},
     "output_type": "display_data"
    },
    {
     "data": {
      "application/vnd.jupyter.widget-view+json": {
       "model_id": "",
       "version_major": 2,
       "version_minor": 0
      },
      "text/plain": [
       "FloatProgress(value=0.0, bar_style='info', description='Progress:', layout=Layout(height='25px', width='50%'),…"
      ]
     },
     "metadata": {},
     "output_type": "display_data"
    }
   ],
   "source": [
    "title_rating = title_rating.withColumn(\"averageRating\",col(\"averageRating\").cast(\"float\"))"
   ]
  },
  {
   "cell_type": "code",
   "execution_count": 78,
   "id": "a6c66ee8",
   "metadata": {
    "scrolled": true
   },
   "outputs": [
    {
     "data": {
      "application/vnd.jupyter.widget-view+json": {
       "model_id": "7ad7b217bac644c8b95011db7d1f8d91",
       "version_major": 2,
       "version_minor": 0
      },
      "text/plain": [
       "VBox()"
      ]
     },
     "metadata": {},
     "output_type": "display_data"
    },
    {
     "data": {
      "application/vnd.jupyter.widget-view+json": {
       "model_id": "",
       "version_major": 2,
       "version_minor": 0
      },
      "text/plain": [
       "FloatProgress(value=0.0, bar_style='info', description='Progress:', layout=Layout(height='25px', width='50%'),…"
      ]
     },
     "metadata": {},
     "output_type": "display_data"
    }
   ],
   "source": [
    "title_rating.createOrReplaceTempView('Title_Rating')"
   ]
  },
  {
   "cell_type": "code",
   "execution_count": 80,
   "id": "dbb67673",
   "metadata": {
    "scrolled": false
   },
   "outputs": [
    {
     "data": {
      "application/vnd.jupyter.widget-view+json": {
       "model_id": "7c76e2f269234aa79479ce504b19c343",
       "version_major": 2,
       "version_minor": 0
      },
      "text/plain": [
       "VBox()"
      ]
     },
     "metadata": {},
     "output_type": "display_data"
    },
    {
     "data": {
      "application/vnd.jupyter.widget-view+json": {
       "model_id": "",
       "version_major": 2,
       "version_minor": 0
      },
      "text/plain": [
       "FloatProgress(value=0.0, bar_style='info', description='Progress:', layout=Layout(height='25px', width='50%'),…"
      ]
     },
     "metadata": {},
     "output_type": "display_data"
    },
    {
     "name": "stdout",
     "output_type": "stream",
     "text": [
      "+-------------------------------------------------+-------------+\n",
      "|primaryTitle                                     |averageRating|\n",
      "+-------------------------------------------------+-------------+\n",
      "|A Grunt's Life                                   |10.0         |\n",
      "|The Butcher Baronet                              |10.0         |\n",
      "|Our Scripted Life                                |10.0         |\n",
      "|The Twilight Zone: A 60th Anniversary Celebration|10.0         |\n",
      "|Bu Can Var Oldugu Sürece                         |10.0         |\n",
      "|A Medicine for the Mind                          |10.0         |\n",
      "|L'Enfant Terrible                                |10.0         |\n",
      "|Love in Kilnerry                                 |10.0         |\n",
      "|Kirket                                           |10.0         |\n",
      "|Superhombre                                      |9.9          |\n",
      "|Puritan: All of Life to The Glory of God         |9.9          |\n",
      "|The Cardinal                                     |9.9          |\n",
      "|Square One                                       |9.8          |\n",
      "|Kamen Rider Zi-O: Over Quartzer                  |9.8          |\n",
      "|From Shock to Awe                                |9.8          |\n",
      "|Time and motion                                  |9.8          |\n",
      "|We Shall Not Die Now                             |9.8          |\n",
      "|Randhawa                                         |9.8          |\n",
      "|Gini Helida Kathe                                |9.8          |\n",
      "+-------------------------------------------------+-------------+"
     ]
    }
   ],
   "source": [
    "sql_rating = spark.sql(\n",
    "'''\n",
    "SELECT primaryTitle, averageRating\n",
    "FROM Title_Rating\n",
    "WHERE titletype = 'movie' AND startYear = '2019' AND averageRating > '9.7' \n",
    "ORDER BY averageRating DESC\n",
    "'''\n",
    ")\n",
    "sql_rating.show(truncate = False)"
   ]
  },
  {
   "cell_type": "markdown",
   "id": "868dcdfc",
   "metadata": {},
   "source": [
    "# Extra Credit"
   ]
  },
  {
   "cell_type": "markdown",
   "id": "af0df3bd",
   "metadata": {},
   "source": [
    "### Analyzing Title Types"
   ]
  },
  {
   "cell_type": "markdown",
   "id": "d8f8cb9c",
   "metadata": {},
   "source": [
    "What are the different title types?"
   ]
  },
  {
   "cell_type": "code",
   "execution_count": 108,
   "id": "a7a857da",
   "metadata": {
    "scrolled": true
   },
   "outputs": [
    {
     "data": {
      "application/vnd.jupyter.widget-view+json": {
       "model_id": "8e79469c9c724c86818451fd773ddfa5",
       "version_major": 2,
       "version_minor": 0
      },
      "text/plain": [
       "VBox()"
      ]
     },
     "metadata": {},
     "output_type": "display_data"
    },
    {
     "data": {
      "application/vnd.jupyter.widget-view+json": {
       "model_id": "",
       "version_major": 2,
       "version_minor": 0
      },
      "text/plain": [
       "FloatProgress(value=0.0, bar_style='info', description='Progress:', layout=Layout(height='25px', width='50%'),…"
      ]
     },
     "metadata": {},
     "output_type": "display_data"
    },
    {
     "name": "stdout",
     "output_type": "stream",
     "text": [
      "+------------+\n",
      "|   titleType|\n",
      "+------------+\n",
      "|    tvSeries|\n",
      "|tvMiniSeries|\n",
      "|       movie|\n",
      "|   videoGame|\n",
      "|   tvSpecial|\n",
      "|       video|\n",
      "|     tvMovie|\n",
      "|   tvEpisode|\n",
      "|     tvShort|\n",
      "|       short|\n",
      "+------------+"
     ]
    }
   ],
   "source": [
    "title_type_unique = spark.sql(\n",
    "'''\n",
    "SELECT DISTINCT titleType\n",
    "FROM Movie_and_Genres\n",
    "'''\n",
    ")\n",
    "title_type_unique.show()"
   ]
  },
  {
   "cell_type": "code",
   "execution_count": 112,
   "id": "e7246c53",
   "metadata": {},
   "outputs": [
    {
     "data": {
      "application/vnd.jupyter.widget-view+json": {
       "model_id": "f37f2769c1384ce6bcd735f0be843551",
       "version_major": 2,
       "version_minor": 0
      },
      "text/plain": [
       "VBox()"
      ]
     },
     "metadata": {},
     "output_type": "display_data"
    },
    {
     "data": {
      "application/vnd.jupyter.widget-view+json": {
       "model_id": "",
       "version_major": 2,
       "version_minor": 0
      },
      "text/plain": [
       "FloatProgress(value=0.0, bar_style='info', description='Progress:', layout=Layout(height='25px', width='50%'),…"
      ]
     },
     "metadata": {},
     "output_type": "display_data"
    },
    {
     "name": "stdout",
     "output_type": "stream",
     "text": [
      "10"
     ]
    }
   ],
   "source": [
    "print(str(movie_and_genres.select('titleType').distinct().count()))"
   ]
  },
  {
   "cell_type": "markdown",
   "id": "8ba3c942",
   "metadata": {},
   "source": [
    "Top Title Types"
   ]
  },
  {
   "cell_type": "code",
   "execution_count": 113,
   "id": "e576dda4",
   "metadata": {
    "scrolled": true
   },
   "outputs": [
    {
     "data": {
      "application/vnd.jupyter.widget-view+json": {
       "model_id": "eddb8ba511a148eb8e095d839aa6355e",
       "version_major": 2,
       "version_minor": 0
      },
      "text/plain": [
       "VBox()"
      ]
     },
     "metadata": {},
     "output_type": "display_data"
    },
    {
     "data": {
      "application/vnd.jupyter.widget-view+json": {
       "model_id": "",
       "version_major": 2,
       "version_minor": 0
      },
      "text/plain": [
       "FloatProgress(value=0.0, bar_style='info', description='Progress:', layout=Layout(height='25px', width='50%'),…"
      ]
     },
     "metadata": {},
     "output_type": "display_data"
    },
    {
     "name": "stdout",
     "output_type": "stream",
     "text": [
      "+------------+------+\n",
      "|   titleType| count|\n",
      "+------------+------+\n",
      "|   tvEpisode|965595|\n",
      "|       movie|403394|\n",
      "|       short|249918|\n",
      "|    tvSeries| 99651|\n",
      "|       video| 89655|\n",
      "|     tvMovie| 62544|\n",
      "|   videoGame| 18918|\n",
      "|tvMiniSeries| 14430|\n",
      "|   tvSpecial| 10418|\n",
      "|     tvShort|  6899|\n",
      "+------------+------+"
     ]
    }
   ],
   "source": [
    "title_type_count = spark.sql(\n",
    "'''\n",
    "SELECT titleType, count(tconst) as count\n",
    "FROM Movie_and_Genres\n",
    "GROUP BY titleType\n",
    "ORDER BY count DESC\n",
    "'''\n",
    ")\n",
    "title_type_count.show(10)"
   ]
  },
  {
   "cell_type": "markdown",
   "id": "7660ea52",
   "metadata": {},
   "source": [
    "Best Title Type"
   ]
  },
  {
   "cell_type": "code",
   "execution_count": 115,
   "id": "63fa9f48",
   "metadata": {},
   "outputs": [
    {
     "data": {
      "application/vnd.jupyter.widget-view+json": {
       "model_id": "0497439dc6eb4c2ebbc757f701e92d2e",
       "version_major": 2,
       "version_minor": 0
      },
      "text/plain": [
       "VBox()"
      ]
     },
     "metadata": {},
     "output_type": "display_data"
    },
    {
     "data": {
      "application/vnd.jupyter.widget-view+json": {
       "model_id": "",
       "version_major": 2,
       "version_minor": 0
      },
      "text/plain": [
       "FloatProgress(value=0.0, bar_style='info', description='Progress:', layout=Layout(height='25px', width='50%'),…"
      ]
     },
     "metadata": {},
     "output_type": "display_data"
    },
    {
     "name": "stdout",
     "output_type": "stream",
     "text": [
      "+------------+------+------------------+\n",
      "|   titleType| count|        avg_rating|\n",
      "+------------+------+------------------+\n",
      "|   tvEpisode|965595| 7.356012510421039|\n",
      "|   videoGame| 18918|  7.31306163442224|\n",
      "|tvMiniSeries| 14430| 7.156368676368676|\n",
      "|     tvShort|  6899| 6.902232207566313|\n",
      "|   tvSpecial| 10418| 6.842743328853906|\n",
      "|       short|249918| 6.839272481373894|\n",
      "|    tvSeries| 99651| 6.803586516944131|\n",
      "|       video| 89655| 6.588878478612454|\n",
      "|     tvMovie| 62544|6.5606501023279655|\n",
      "|       movie|403394|6.1515163834861255|\n",
      "+------------+------+------------------+"
     ]
    }
   ],
   "source": [
    "title_type_rating = spark.sql(\n",
    "'''\n",
    "SELECT titleType, count(tconst) as count, AVG(averageRating) as avg_rating\n",
    "FROM Movie_and_Genres\n",
    "GROUP BY titleType\n",
    "ORDER BY avg_rating DESC\n",
    "'''\n",
    ")\n",
    "title_type_rating.show(10)"
   ]
  },
  {
   "cell_type": "code",
   "execution_count": 140,
   "id": "fc7e9913",
   "metadata": {
    "scrolled": false
   },
   "outputs": [
    {
     "data": {
      "application/vnd.jupyter.widget-view+json": {
       "model_id": "490eaf30a80c47bda373a708b4f7ce02",
       "version_major": 2,
       "version_minor": 0
      },
      "text/plain": [
       "VBox()"
      ]
     },
     "metadata": {},
     "output_type": "display_data"
    },
    {
     "data": {
      "application/vnd.jupyter.widget-view+json": {
       "model_id": "",
       "version_major": 2,
       "version_minor": 0
      },
      "text/plain": [
       "FloatProgress(value=0.0, bar_style='info', description='Progress:', layout=Layout(height='25px', width='50%'),…"
      ]
     },
     "metadata": {},
     "output_type": "display_data"
    },
    {
     "data": {
      "image/png": "[encoded data removed]",
      "text/plain": [
       "<IPython.core.display.Image object>"
      ]
     },
     "metadata": {},
     "output_type": "display_data"
    }
   ],
   "source": [
    "title_type_df = title_type_rating.toPandas()\n",
    "\n",
    "ax = title_type_df.set_index(\"titleType\").plot(kind=\"scatter\", x = \"count\", y= \"avg_rating\", figsize = (15,8))\n",
    "plt.xlabel(\"Count\")\n",
    "plt.ylabel(\"Average Rating\")\n",
    "plt.title(\"Ratings of Title Types\")\n",
    "title_type_df[['count','avg_rating','titleType']].apply(lambda x: ax.text(*x),axis=1)\n",
    "%matplot plt"
   ]
  }
 ],
 "metadata": {
  "kernelspec": {
   "display_name": "PySpark",
   "language": "",
   "name": "pysparkkernel"
  },
  "language_info": {
   "codemirror_mode": {
    "name": "python",
    "version": 2
   },
   "mimetype": "text/x-python",
   "name": "pyspark",
   "pygments_lexer": "python2"
  }
 },
 "nbformat": 4,
 "nbformat_minor": 5
}
